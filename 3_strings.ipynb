{
 "cells": [
  {
   "cell_type": "markdown",
   "metadata": {},
   "source": [
    "1. Create 3 variables to store street, city and country, now create address variable to store entire address. Use two ways of creating this variable, one using + operator and the other using f-string. Now Print the address in such a way that the street, city and country prints in a separate line."
   ]
  },
  {
   "cell_type": "code",
   "execution_count": 2,
   "metadata": {},
   "outputs": [
    {
     "name": "stdout",
     "output_type": "stream",
     "text": [
      "DP road, Pune, India\n",
      "The address is:  DP road, Pune, India\n",
      "The address is: DP road, Pune, India\n",
      "The address is: DP road, Pune, India\n",
      "The address is: DP road, Pune, India\n",
      "The address is: DP road, Pune, India\n",
      "The address is:  DP road ,  Pune ,  India\n",
      "The address is: DP road, Pune, India\n",
      "The address is: DP road, Pune, India\n",
      "The address is: DP road, Pune, India\n",
      "The address is: DP road, Pune, India\n"
     ]
    }
   ],
   "source": [
    "street = \"DP road\"\n",
    "city = \"Pune\"\n",
    "country = \"India\"\n",
    "address = street + \", \" + city + \", \" + country\n",
    "print(address)\n",
    "print(\"The address is: \", address)\n",
    "print(\"The address is: \" + address)\n",
    "print(\"The address is: %s\" % address)\n",
    "print(\"The address is: {}\".format(address))\n",
    "print(f\"The address is: {address}\")\n",
    "print(\"The address is: \", street, \", \", city, \", \", country)\n",
    "print(\"The address is: \" + street + \", \" + city + \", \" + country)\n",
    "print(\"The address is: %s, %s, %s\" % (street, city, country))\n",
    "print(\"The address is: {}, {}, {}\".format(street, city, country))\n",
    "print(f\"The address is: {street}, {city}, {country}\")"
   ]
  },
  {
   "cell_type": "markdown",
   "metadata": {},
   "source": [
    "2. Create a variable to store the string \"Earth revolves around the sun\"\n",
    "Print \"revolves\" using slice operator\n",
    "Print \"sun\" using negative index"
   ]
  },
  {
   "cell_type": "code",
   "execution_count": 8,
   "metadata": {},
   "outputs": [
    {
     "name": "stdout",
     "output_type": "stream",
     "text": [
      "Earth revolves around the sun\n",
      "revolves \n",
      " sun\n"
     ]
    }
   ],
   "source": [
    "variable = \"Earth revolves around the sun\"\n",
    "print(variable)\n",
    "\n",
    "print(variable[6:15])\n",
    "\n",
    "print(variable[-4:])"
   ]
  },
  {
   "cell_type": "markdown",
   "metadata": {},
   "source": [
    "3. Create two variables to store how many fruits and vegetables you eat in a day. Now Print \"I eat x veggies and y fruits daily\" where x and y presents vegetables and fruits that you eat everyday. Use python f string for this."
   ]
  },
  {
   "cell_type": "code",
   "execution_count": 9,
   "metadata": {},
   "outputs": [
    {
     "name": "stdout",
     "output_type": "stream",
     "text": [
      "I eat 5 fruits and 7 vegetables every day.\n"
     ]
    }
   ],
   "source": [
    "no_fruits = 5\n",
    "no_vegetables = 7\n",
    "print(f\"I eat {no_fruits} fruits and {no_vegetables} vegetables every day.\")"
   ]
  },
  {
   "cell_type": "markdown",
   "metadata": {},
   "source": [
    "4. I have a string variable called s='maine 200 banana khaye'. This of course is a wrong statement, the correct statement is 'maine 10 samosa khaye'. Replace incorrect words in original string with new ones and print the new string. Also try to do this in one line."
   ]
  },
  {
   "cell_type": "code",
   "execution_count": null,
   "metadata": {},
   "outputs": [
    {
     "name": "stdout",
     "output_type": "stream",
     "text": [
      "False\n",
      "maine 10 Samosa khaye\n"
     ]
    }
   ],
   "source": [
    "s = 'maine 200 banana khaye'\n",
    "new_s = s.replace('maine 200', 'maine 10').replace('banana', 'Samosa')\n",
    "print(new_s)"
   ]
  },
  {
   "cell_type": "markdown",
   "metadata": {},
   "source": []
  }
 ],
 "metadata": {
  "kernelspec": {
   "display_name": "base",
   "language": "python",
   "name": "python3"
  },
  "language_info": {
   "codemirror_mode": {
    "name": "ipython",
    "version": 3
   },
   "file_extension": ".py",
   "mimetype": "text/x-python",
   "name": "python",
   "nbconvert_exporter": "python",
   "pygments_lexer": "ipython3",
   "version": "3.12.7"
  }
 },
 "nbformat": 4,
 "nbformat_minor": 2
}
