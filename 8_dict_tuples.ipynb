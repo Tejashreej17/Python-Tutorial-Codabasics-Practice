{
 "cells": [
  {
   "cell_type": "markdown",
   "metadata": {},
   "source": [
    "1. We have following information on countries and their population (population is in crores),"
   ]
  },
  {
   "cell_type": "markdown",
   "metadata": {},
   "source": [
    "+ Using above create a dictionary of countries and its population"
   ]
  },
  {
   "cell_type": "markdown",
   "metadata": {},
   "source": [
    "| Country | Population | \n",
    "|----------|----------|\n",
    "| China    | 143      | \n",
    "| India    | 136      | \n",
    "| USA      | 32       | \n",
    "| Pakistan | 21       | "
   ]
  },
  {
   "cell_type": "code",
   "execution_count": 4,
   "metadata": {},
   "outputs": [
    {
     "name": "stdout",
     "output_type": "stream",
     "text": [
      "China 143\n",
      "{'China': 143, 'India': 136, 'USA': 32, 'Pakistan': 21}\n"
     ]
    }
   ],
   "source": [
    "countries = ['China', 'India', 'USA', 'Pakistan']\n",
    "population = [143, 136, 32, 21]\n",
    "print(countries[0], population[0])\n",
    "dict = {}\n",
    "for i in range(4):\n",
    "    dict[countries[i]] = population[i]\n",
    "print(dict)"
   ]
  },
  {
   "cell_type": "markdown",
   "metadata": {},
   "source": [
    "+ Write a program that asks user for three type of inputs,\n",
    "+ print: if user enter print then it should print all countries with their population in this format,add: if user input add then it should further ask for a country name to add. If country already exist in our dataset then it should print that it exist and do nothing. If it doesn't then it asks for population and add that new country/population in our dictionary and print it\n",
    "+ add: if user input add then it should further ask for a country name to add. If country already exist in our dataset then it should print that it exist and do nothing. If it doesn't then it asks for population and add that new country/population in our dictionary and print it\n",
    "+ remove: when user inputs remove it should ask for a country to remove. If country exist in our dictionary then remove it and print new dictionary using format shown above in (a). Else print that country doesn't exist!\n",
    "+ query: on this again ask user for which country he or she wants to query. When user inputs that country it will print population of that country."
   ]
  },
  {
   "cell_type": "code",
   "execution_count": 9,
   "metadata": {},
   "outputs": [
    {
     "name": "stdout",
     "output_type": "stream",
     "text": [
      "japan: 500 crores\n",
      "Removed japan.\n",
      "China: 143 crores\n",
      "India: 136 crores\n",
      "USA: 32 crores\n",
      "Pakistan: 21 crores\n"
     ]
    }
   ],
   "source": [
    "while True:\n",
    "    user_input = input(\"Enter 'print', 'add', 'remove', or 'query': \").strip().lower()\n",
    "    \n",
    "    if user_input == 'print':\n",
    "        for country, pop in dict.items():\n",
    "            print(f\"{country}: {pop} crores\")\n",
    "    \n",
    "    elif user_input == 'add':\n",
    "        new_country = input(\"Enter the new country: \").strip()\n",
    "        if new_country in dict:\n",
    "            print(f\"{new_country} already exists with population {dict[new_country]} crores.\")\n",
    "        else:\n",
    "            new_population = int(input(\"Enter the population of the new country: \").strip())\n",
    "            dict[new_country] = new_population\n",
    "            print(f\"Added {new_country} with population {new_population} crores.\")\n",
    "    \n",
    "    elif user_input == 'remove':\n",
    "        remove_country = input(\"Enter the country to remove: \").strip()\n",
    "        if remove_country in dict:\n",
    "            del dict[remove_country]\n",
    "            print(f\"Removed {remove_country}.\")\n",
    "        else:\n",
    "            print(f\"{remove_country} doesn't exist!\")\n",
    "    \n",
    "    elif user_input == 'query':\n",
    "        query_country = input(\"Enter the country to query: \").strip()\n",
    "        if query_country in dict:\n",
    "            print(f\"{query_country}: {dict[query_country]} crores\")\n",
    "        else:\n",
    "            print(f\"{query_country} doesn't exist!\")\n",
    "    \n",
    "    else:\n",
    "        print(\"Invalid input. Please try again.\")\n",
    "    \n",
    "    continue_input = input(\"Do you want to continue? (yes/no): \").strip().lower()\n",
    "    if continue_input != 'yes':\n",
    "        break"
   ]
  },
  {
   "cell_type": "markdown",
   "metadata": {},
   "source": [
    "2. You are given following list of stocks and their prices in last 3 days,\n",
    "\n",
    "| Stock | Prices          | \n",
    "|-------|-----------------|\n",
    "| info  | [600,630,620]   | \n",
    "| ril   | [1430,1490,1567]| \n",
    "| mtl   | [234,180,160]   | \n",
    "\n",
    "+ Write a program that asks user for operation. Value of operations could be,\n",
    "+ print: When user enters print it should print following,\n",
    "    + info ==> [600, 630, 620] ==> avg:  616.67\n",
    "    + ril ==> [1430, 1490, 1567] ==> avg:  1495.67\n",
    "    + mtl ==> [234, 180, 160] ==> avg:  191.33\n",
    "+ add: When user enters 'add', it asks for stock ticker and price. If stock already exist in your list (like info, ril etc) then it will append the price to the list. Otherwise it will create new entry in your dictionary. For example entering 'tata' and 560 will add tata ==> [560] to the dictionary of stocks."
   ]
  },
  {
   "cell_type": "code",
   "execution_count": 15,
   "metadata": {},
   "outputs": [
    {
     "name": "stdout",
     "output_type": "stream",
     "text": [
      "info ==> [600, 630, 620] ==> avg:  616.67\n",
      "ril ==> [1430, 1490, 1567, 200.0] ==> avg:  1171.75\n",
      "mtl ==> [234, 180, 160] ==> avg:  191.33\n"
     ]
    }
   ],
   "source": [
    "import statistics\n",
    "\n",
    "stocks = {\n",
    "    'info': [600, 630, 620],\n",
    "    'ril': [1430, 1490, 1567],\n",
    "   'mtl': [234, 180, 160]\n",
    "}\n",
    "\n",
    "def print_all():\n",
    "    for stock, prices in stocks.items():\n",
    "        avg = statistics.mean(prices)\n",
    "        print(f\"{stock} ==> {prices} ==> avg: \",round(avg,2))\n",
    "\n",
    "def add_stock():\n",
    "    s = input(\"Enter the stock name: \").lower()\n",
    "    p = input(\"Enter the price of the stock: \")\n",
    "    p = float(p)\n",
    "    if s in stocks:\n",
    "        stocks[s].append(p)\n",
    "    else:\n",
    "        stocks[s] = [p]\n",
    "    print_all()\n",
    "\n",
    "def main():\n",
    "    op = input(\"Enter operation (print or add): \")\n",
    "    if op.lower() == \"print\":\n",
    "        print_all()\n",
    "    elif op.lower() == \"add\":\n",
    "        add_stock()\n",
    "    else:\n",
    "        print(\"Invalid input. Please try again.\")\n",
    "\n",
    "if __name__ == \"__main__\":\n",
    "    main()"
   ]
  },
  {
   "cell_type": "markdown",
   "metadata": {},
   "source": [
    "3. Write circle_calc() function that takes radius of a circle as an input from user and then it calculates and returns area, circumference and diameter. You should get these values in your main program by calling circle_calc function and then print them"
   ]
  },
  {
   "cell_type": "code",
   "execution_count": 17,
   "metadata": {},
   "outputs": [
    {
     "name": "stdout",
     "output_type": "stream",
     "text": [
      "Area: 254.34, Perimeter: 56.52, Diameter: 18.0\n"
     ]
    }
   ],
   "source": [
    "def circle_calc():\n",
    "    r = float(input(\"Enter the radius of the circle: \"))\n",
    "    diameter = 2 * r\n",
    "    area = 3.14 * r * r\n",
    "    circumference = 2 * 3.14 * r\n",
    "    print(f\"Area: {area}, Perimeter: {circumference}, Diameter: {diameter}\")\n",
    "    return\n",
    "\n",
    "circle_calc()"
   ]
  },
  {
   "cell_type": "code",
   "execution_count": null,
   "metadata": {},
   "outputs": [],
   "source": []
  }
 ],
 "metadata": {
  "kernelspec": {
   "display_name": "base",
   "language": "python",
   "name": "python3"
  },
  "language_info": {
   "codemirror_mode": {
    "name": "ipython",
    "version": 3
   },
   "file_extension": ".py",
   "mimetype": "text/x-python",
   "name": "python",
   "nbconvert_exporter": "python",
   "pygments_lexer": "ipython3",
   "version": "3.12.7"
  }
 },
 "nbformat": 4,
 "nbformat_minor": 2
}
