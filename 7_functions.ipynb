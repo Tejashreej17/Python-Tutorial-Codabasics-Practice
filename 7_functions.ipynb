{
 "cells": [
  {
   "cell_type": "markdown",
   "metadata": {},
   "source": [
    "1. Write a function called calculate_area that takes base and height as an input and returns and area of a triangle. Equation of an area of a triangle is,area = (1/2)x(base)x(height)"
   ]
  },
  {
   "cell_type": "code",
   "execution_count": 2,
   "metadata": {},
   "outputs": [
    {
     "name": "stdout",
     "output_type": "stream",
     "text": [
      "Area of the traingle is : 100.0\n"
     ]
    }
   ],
   "source": [
    "def calculate_area(base, height):\n",
    "    return base * height / 2\n",
    "\n",
    "print(\"Area of the traingle is :\", calculate_area(10, 20)) # 100.0"
   ]
  },
  {
   "cell_type": "markdown",
   "metadata": {},
   "source": [
    "2. Modify above function to take third parameter shape type. It can be either \"triangle\" or \"rectangle\". Based on shape type it will calculate area. Equation of rectangle's area is, rectangle area=length*width"
   ]
  },
  {
   "cell_type": "code",
   "execution_count": null,
   "metadata": {},
   "outputs": [
    {
     "name": "stdout",
     "output_type": "stream",
     "text": [
      "Area of the triangle is : 100.0\n",
      "Area of the rectangle is : 200\n"
     ]
    }
   ],
   "source": [
    "def calculate_area(base,height,shape):\n",
    "    if shape == \"triangle\":\n",
    "        return base * height / 2\n",
    "    elif shape == \"rectangle\":\n",
    "        return base * height\n",
    "\n",
    "print(\"Area of the triangle is :\", calculate_area(10, 20, \"triangle\")) # 100.0\n",
    "print(\"Area of the rectangle is :\", calculate_area(10, 20, \"rectangle\")) # 200.0"
   ]
  },
  {
   "cell_type": "markdown",
   "metadata": {},
   "source": [
    "3. Write a function called print_pattern that takes integer number as an argument and prints following pattern if input number is 3,\n",
    "+ _*\n",
    "+ _**\n",
    "+ _***"
   ]
  },
  {
   "cell_type": "code",
   "execution_count": 16,
   "metadata": {},
   "outputs": [
    {
     "name": "stdout",
     "output_type": "stream",
     "text": [
      "*\n",
      "**\n",
      "***\n",
      "****\n",
      "*****\n",
      "******\n",
      "*******\n",
      "********\n",
      "*********\n",
      "**********\n"
     ]
    }
   ],
   "source": [
    "def print_pattern(n):\n",
    "    for i in range(n):\n",
    "        for j in range(i+1):\n",
    "            print(\"*\", end=\"\")\n",
    "        print()\n",
    "print_pattern(10)"
   ]
  },
  {
   "cell_type": "code",
   "execution_count": null,
   "metadata": {},
   "outputs": [],
   "source": []
  }
 ],
 "metadata": {
  "kernelspec": {
   "display_name": "base",
   "language": "python",
   "name": "python3"
  },
  "language_info": {
   "codemirror_mode": {
    "name": "ipython",
    "version": 3
   },
   "file_extension": ".py",
   "mimetype": "text/x-python",
   "name": "python",
   "nbconvert_exporter": "python",
   "pygments_lexer": "ipython3",
   "version": "3.12.7"
  }
 },
 "nbformat": 4,
 "nbformat_minor": 2
}
